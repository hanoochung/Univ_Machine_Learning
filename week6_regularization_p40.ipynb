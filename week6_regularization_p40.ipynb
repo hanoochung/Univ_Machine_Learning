{
 "cells": [
  {
   "cell_type": "code",
   "execution_count": 1,
   "metadata": {
    "collapsed": true
   },
   "outputs": [],
   "source": [
    "import numpy as np\n",
    "import pandas as pd\n",
    "import warnings\n",
    "from sklearn.model_selection import cross_val_score\n",
    "from sklearn.linear_model import LinearRegression, Lasso\n",
    "from sklearn.model_selection import GridSearchCV\n",
    "from sklearn.linear_model import Ridge\n",
    "from sklearn.preprocessing import StandardScaler\n",
    "\n",
    "warnings.filterwarnings('ignore')\n",
    "\n",
    "# Adjusting for Data Frame Output\n",
    "# pd.set_option('display.max_rows', None)\n",
    "# pd.set_option('display.max_columns', None)\n",
    "# pd.set_option('display.max_colwidth', None)"
   ]
  },
  {
   "cell_type": "code",
   "execution_count": 2,
   "outputs": [],
   "source": [
    "# Read Dataset\n",
    "# Dataset Source:\n",
    "#   https://www.kaggle.com/datasets/gauravduttakiit/white-wine-quality?select=Training_set_whitewine.csv\n",
    "df_origin = pd.read_csv('dataset/white_wine.csv')"
   ],
   "metadata": {
    "collapsed": false
   }
  },
  {
   "cell_type": "code",
   "execution_count": 3,
   "outputs": [
    {
     "name": "stdout",
     "output_type": "stream",
     "text": [
      "<class 'pandas.core.frame.DataFrame'>\n",
      "RangeIndex: 3428 entries, 0 to 3427\n",
      "Data columns (total 12 columns):\n",
      " #   Column                Non-Null Count  Dtype  \n",
      "---  ------                --------------  -----  \n",
      " 0   fixed acidity         3428 non-null   float64\n",
      " 1   volatile acidity      3428 non-null   float64\n",
      " 2   citric acid           3428 non-null   float64\n",
      " 3   residual sugar        3428 non-null   float64\n",
      " 4   chlorides             3428 non-null   float64\n",
      " 5   free sulfur dioxide   3428 non-null   float64\n",
      " 6   total sulfur dioxide  3428 non-null   float64\n",
      " 7   density               3428 non-null   float64\n",
      " 8   pH                    3428 non-null   float64\n",
      " 9   sulphates             3428 non-null   float64\n",
      " 10  alcohol               3428 non-null   float64\n",
      " 11  quality               3428 non-null   int64  \n",
      "dtypes: float64(11), int64(1)\n",
      "memory usage: 321.5 KB\n"
     ]
    }
   ],
   "source": [
    "# Check data information\n",
    "df_origin.info()"
   ],
   "metadata": {
    "collapsed": false
   }
  },
  {
   "cell_type": "code",
   "execution_count": 4,
   "outputs": [
    {
     "data": {
      "text/plain": "      fixed acidity  volatile acidity  citric acid  residual sugar  chlorides  \\\n0               6.2              0.47         0.19             8.3      0.029   \n1               6.8              0.38         0.29             9.9      0.037   \n2               7.9              0.17         0.32             1.6      0.053   \n3               7.6              0.30         0.27            10.6      0.039   \n4               5.8              0.24         0.39             1.5      0.054   \n...             ...               ...          ...             ...        ...   \n3423            8.0              0.25         0.13            17.2      0.036   \n3424            6.1              0.16         0.34             6.1      0.034   \n3425            6.0              0.24         0.33             2.5      0.026   \n3426            6.5              0.22         0.45             8.0      0.053   \n3427            7.8              0.26         0.49             3.2      0.027   \n\n      free sulfur dioxide  total sulfur dioxide  density    pH  sulphates  \\\n0                    24.0                 142.0  0.99200  3.22       0.45   \n1                    40.0                 146.0  0.99326  3.11       0.37   \n2                    47.0                 150.0  0.99480  3.29       0.76   \n3                    31.0                 119.0  0.99815  3.27       0.30   \n4                    37.0                 158.0  0.99320  3.21       0.52   \n...                   ...                   ...      ...   ...        ...   \n3423                 49.0                 219.0  0.99960  2.96       0.46   \n3424                 31.0                 114.0  0.99365  3.32       0.58   \n3425                 31.0                  85.0  0.99014  3.13       0.50   \n3426                 52.0                 196.0  0.99590  3.23       0.48   \n3427                 28.0                  87.0  0.99190  3.03       0.32   \n\n      alcohol  quality  \n0       12.30        6  \n1       11.50        6  \n2        9.60        6  \n3        9.30        6  \n4        9.30        6  \n...       ...      ...  \n3423     9.70        5  \n3424    10.15        7  \n3425    11.30        7  \n3426     9.10        6  \n3427    11.30        7  \n\n[3428 rows x 12 columns]",
      "text/html": "<div>\n<style scoped>\n    .dataframe tbody tr th:only-of-type {\n        vertical-align: middle;\n    }\n\n    .dataframe tbody tr th {\n        vertical-align: top;\n    }\n\n    .dataframe thead th {\n        text-align: right;\n    }\n</style>\n<table border=\"1\" class=\"dataframe\">\n  <thead>\n    <tr style=\"text-align: right;\">\n      <th></th>\n      <th>fixed acidity</th>\n      <th>volatile acidity</th>\n      <th>citric acid</th>\n      <th>residual sugar</th>\n      <th>chlorides</th>\n      <th>free sulfur dioxide</th>\n      <th>total sulfur dioxide</th>\n      <th>density</th>\n      <th>pH</th>\n      <th>sulphates</th>\n      <th>alcohol</th>\n      <th>quality</th>\n    </tr>\n  </thead>\n  <tbody>\n    <tr>\n      <th>0</th>\n      <td>6.2</td>\n      <td>0.47</td>\n      <td>0.19</td>\n      <td>8.3</td>\n      <td>0.029</td>\n      <td>24.0</td>\n      <td>142.0</td>\n      <td>0.99200</td>\n      <td>3.22</td>\n      <td>0.45</td>\n      <td>12.30</td>\n      <td>6</td>\n    </tr>\n    <tr>\n      <th>1</th>\n      <td>6.8</td>\n      <td>0.38</td>\n      <td>0.29</td>\n      <td>9.9</td>\n      <td>0.037</td>\n      <td>40.0</td>\n      <td>146.0</td>\n      <td>0.99326</td>\n      <td>3.11</td>\n      <td>0.37</td>\n      <td>11.50</td>\n      <td>6</td>\n    </tr>\n    <tr>\n      <th>2</th>\n      <td>7.9</td>\n      <td>0.17</td>\n      <td>0.32</td>\n      <td>1.6</td>\n      <td>0.053</td>\n      <td>47.0</td>\n      <td>150.0</td>\n      <td>0.99480</td>\n      <td>3.29</td>\n      <td>0.76</td>\n      <td>9.60</td>\n      <td>6</td>\n    </tr>\n    <tr>\n      <th>3</th>\n      <td>7.6</td>\n      <td>0.30</td>\n      <td>0.27</td>\n      <td>10.6</td>\n      <td>0.039</td>\n      <td>31.0</td>\n      <td>119.0</td>\n      <td>0.99815</td>\n      <td>3.27</td>\n      <td>0.30</td>\n      <td>9.30</td>\n      <td>6</td>\n    </tr>\n    <tr>\n      <th>4</th>\n      <td>5.8</td>\n      <td>0.24</td>\n      <td>0.39</td>\n      <td>1.5</td>\n      <td>0.054</td>\n      <td>37.0</td>\n      <td>158.0</td>\n      <td>0.99320</td>\n      <td>3.21</td>\n      <td>0.52</td>\n      <td>9.30</td>\n      <td>6</td>\n    </tr>\n    <tr>\n      <th>...</th>\n      <td>...</td>\n      <td>...</td>\n      <td>...</td>\n      <td>...</td>\n      <td>...</td>\n      <td>...</td>\n      <td>...</td>\n      <td>...</td>\n      <td>...</td>\n      <td>...</td>\n      <td>...</td>\n      <td>...</td>\n    </tr>\n    <tr>\n      <th>3423</th>\n      <td>8.0</td>\n      <td>0.25</td>\n      <td>0.13</td>\n      <td>17.2</td>\n      <td>0.036</td>\n      <td>49.0</td>\n      <td>219.0</td>\n      <td>0.99960</td>\n      <td>2.96</td>\n      <td>0.46</td>\n      <td>9.70</td>\n      <td>5</td>\n    </tr>\n    <tr>\n      <th>3424</th>\n      <td>6.1</td>\n      <td>0.16</td>\n      <td>0.34</td>\n      <td>6.1</td>\n      <td>0.034</td>\n      <td>31.0</td>\n      <td>114.0</td>\n      <td>0.99365</td>\n      <td>3.32</td>\n      <td>0.58</td>\n      <td>10.15</td>\n      <td>7</td>\n    </tr>\n    <tr>\n      <th>3425</th>\n      <td>6.0</td>\n      <td>0.24</td>\n      <td>0.33</td>\n      <td>2.5</td>\n      <td>0.026</td>\n      <td>31.0</td>\n      <td>85.0</td>\n      <td>0.99014</td>\n      <td>3.13</td>\n      <td>0.50</td>\n      <td>11.30</td>\n      <td>7</td>\n    </tr>\n    <tr>\n      <th>3426</th>\n      <td>6.5</td>\n      <td>0.22</td>\n      <td>0.45</td>\n      <td>8.0</td>\n      <td>0.053</td>\n      <td>52.0</td>\n      <td>196.0</td>\n      <td>0.99590</td>\n      <td>3.23</td>\n      <td>0.48</td>\n      <td>9.10</td>\n      <td>6</td>\n    </tr>\n    <tr>\n      <th>3427</th>\n      <td>7.8</td>\n      <td>0.26</td>\n      <td>0.49</td>\n      <td>3.2</td>\n      <td>0.027</td>\n      <td>28.0</td>\n      <td>87.0</td>\n      <td>0.99190</td>\n      <td>3.03</td>\n      <td>0.32</td>\n      <td>11.30</td>\n      <td>7</td>\n    </tr>\n  </tbody>\n</table>\n<p>3428 rows × 12 columns</p>\n</div>"
     },
     "metadata": {},
     "output_type": "display_data"
    }
   ],
   "source": [
    "# Check Dataset\n",
    "display(df_origin)\n",
    "\n",
    "# Copying a data set from the original dataset\n",
    "df = df_origin.copy()"
   ],
   "metadata": {
    "collapsed": false
   }
  },
  {
   "cell_type": "code",
   "execution_count": 5,
   "outputs": [],
   "source": [
    "# Data Scaling\n",
    "scalier = StandardScaler()\n",
    "df = pd.DataFrame(scalier.fit_transform(df), columns=df.columns)"
   ],
   "metadata": {
    "collapsed": false
   }
  },
  {
   "cell_type": "code",
   "execution_count": 6,
   "outputs": [
    {
     "data": {
      "text/plain": "      fixed acidity  volatile acidity  citric acid  residual sugar  chlorides  \\\n0         -0.796240          1.936948    -1.211251        0.376915  -0.795101   \n1         -0.072808          1.032794    -0.368582        0.697658  -0.412062   \n2          1.253485         -1.076900    -0.115781       -0.966198   0.354014   \n3          0.891769          0.229101    -0.537116        0.837984  -0.316303   \n4         -1.278528         -0.373668     0.474088       -0.986244   0.401894   \n...             ...               ...          ...             ...        ...   \n3423       1.374057         -0.273207    -1.716853        2.161050  -0.459942   \n3424      -0.916812         -1.177361     0.052753       -0.064107  -0.555702   \n3425      -1.037384         -0.373668    -0.031514       -0.785780  -0.938740   \n3426      -0.434524         -0.574592     0.979689        0.316776   0.354014   \n3427       1.132913         -0.172745     1.316757       -0.645455  -0.890861   \n\n      free sulfur dioxide  total sulfur dioxide   density        pH  \\\n0               -0.689063              0.070611 -0.702363  0.206011   \n1                0.272340              0.164509 -0.270603 -0.521899   \n2                0.692954              0.258406  0.257105  0.669225   \n3               -0.268449             -0.469299  1.405040  0.536878   \n4                0.092077              0.446201 -0.291163  0.139837   \n...                   ...                   ...       ...       ...   \n3423             0.813129              1.878137  1.901907 -1.514502   \n3424            -0.268449             -0.586671 -0.136962  0.867746   \n3425            -0.268449             -1.267427 -1.339724 -0.389551   \n3426             0.993392              1.338227  0.634039  0.272184   \n3427            -0.448712             -1.220478 -0.736630 -1.051287   \n\n      sulphates   alcohol   quality  \n0     -0.359132  1.456615  0.137625  \n1     -1.061467  0.807887  0.137625  \n2      2.362415 -0.732841  0.137625  \n3     -1.676010 -0.976114  0.137625  \n4      0.255411 -0.976114  0.137625  \n...         ...       ...       ...  \n3423  -0.271340 -0.651750 -0.991030  \n3424   0.782162 -0.286841  1.266280  \n3425   0.079827  0.645705  1.266280  \n3426  -0.095757 -1.138296  0.137625  \n3427  -1.500426  0.645705  1.266280  \n\n[3428 rows x 12 columns]",
      "text/html": "<div>\n<style scoped>\n    .dataframe tbody tr th:only-of-type {\n        vertical-align: middle;\n    }\n\n    .dataframe tbody tr th {\n        vertical-align: top;\n    }\n\n    .dataframe thead th {\n        text-align: right;\n    }\n</style>\n<table border=\"1\" class=\"dataframe\">\n  <thead>\n    <tr style=\"text-align: right;\">\n      <th></th>\n      <th>fixed acidity</th>\n      <th>volatile acidity</th>\n      <th>citric acid</th>\n      <th>residual sugar</th>\n      <th>chlorides</th>\n      <th>free sulfur dioxide</th>\n      <th>total sulfur dioxide</th>\n      <th>density</th>\n      <th>pH</th>\n      <th>sulphates</th>\n      <th>alcohol</th>\n      <th>quality</th>\n    </tr>\n  </thead>\n  <tbody>\n    <tr>\n      <th>0</th>\n      <td>-0.796240</td>\n      <td>1.936948</td>\n      <td>-1.211251</td>\n      <td>0.376915</td>\n      <td>-0.795101</td>\n      <td>-0.689063</td>\n      <td>0.070611</td>\n      <td>-0.702363</td>\n      <td>0.206011</td>\n      <td>-0.359132</td>\n      <td>1.456615</td>\n      <td>0.137625</td>\n    </tr>\n    <tr>\n      <th>1</th>\n      <td>-0.072808</td>\n      <td>1.032794</td>\n      <td>-0.368582</td>\n      <td>0.697658</td>\n      <td>-0.412062</td>\n      <td>0.272340</td>\n      <td>0.164509</td>\n      <td>-0.270603</td>\n      <td>-0.521899</td>\n      <td>-1.061467</td>\n      <td>0.807887</td>\n      <td>0.137625</td>\n    </tr>\n    <tr>\n      <th>2</th>\n      <td>1.253485</td>\n      <td>-1.076900</td>\n      <td>-0.115781</td>\n      <td>-0.966198</td>\n      <td>0.354014</td>\n      <td>0.692954</td>\n      <td>0.258406</td>\n      <td>0.257105</td>\n      <td>0.669225</td>\n      <td>2.362415</td>\n      <td>-0.732841</td>\n      <td>0.137625</td>\n    </tr>\n    <tr>\n      <th>3</th>\n      <td>0.891769</td>\n      <td>0.229101</td>\n      <td>-0.537116</td>\n      <td>0.837984</td>\n      <td>-0.316303</td>\n      <td>-0.268449</td>\n      <td>-0.469299</td>\n      <td>1.405040</td>\n      <td>0.536878</td>\n      <td>-1.676010</td>\n      <td>-0.976114</td>\n      <td>0.137625</td>\n    </tr>\n    <tr>\n      <th>4</th>\n      <td>-1.278528</td>\n      <td>-0.373668</td>\n      <td>0.474088</td>\n      <td>-0.986244</td>\n      <td>0.401894</td>\n      <td>0.092077</td>\n      <td>0.446201</td>\n      <td>-0.291163</td>\n      <td>0.139837</td>\n      <td>0.255411</td>\n      <td>-0.976114</td>\n      <td>0.137625</td>\n    </tr>\n    <tr>\n      <th>...</th>\n      <td>...</td>\n      <td>...</td>\n      <td>...</td>\n      <td>...</td>\n      <td>...</td>\n      <td>...</td>\n      <td>...</td>\n      <td>...</td>\n      <td>...</td>\n      <td>...</td>\n      <td>...</td>\n      <td>...</td>\n    </tr>\n    <tr>\n      <th>3423</th>\n      <td>1.374057</td>\n      <td>-0.273207</td>\n      <td>-1.716853</td>\n      <td>2.161050</td>\n      <td>-0.459942</td>\n      <td>0.813129</td>\n      <td>1.878137</td>\n      <td>1.901907</td>\n      <td>-1.514502</td>\n      <td>-0.271340</td>\n      <td>-0.651750</td>\n      <td>-0.991030</td>\n    </tr>\n    <tr>\n      <th>3424</th>\n      <td>-0.916812</td>\n      <td>-1.177361</td>\n      <td>0.052753</td>\n      <td>-0.064107</td>\n      <td>-0.555702</td>\n      <td>-0.268449</td>\n      <td>-0.586671</td>\n      <td>-0.136962</td>\n      <td>0.867746</td>\n      <td>0.782162</td>\n      <td>-0.286841</td>\n      <td>1.266280</td>\n    </tr>\n    <tr>\n      <th>3425</th>\n      <td>-1.037384</td>\n      <td>-0.373668</td>\n      <td>-0.031514</td>\n      <td>-0.785780</td>\n      <td>-0.938740</td>\n      <td>-0.268449</td>\n      <td>-1.267427</td>\n      <td>-1.339724</td>\n      <td>-0.389551</td>\n      <td>0.079827</td>\n      <td>0.645705</td>\n      <td>1.266280</td>\n    </tr>\n    <tr>\n      <th>3426</th>\n      <td>-0.434524</td>\n      <td>-0.574592</td>\n      <td>0.979689</td>\n      <td>0.316776</td>\n      <td>0.354014</td>\n      <td>0.993392</td>\n      <td>1.338227</td>\n      <td>0.634039</td>\n      <td>0.272184</td>\n      <td>-0.095757</td>\n      <td>-1.138296</td>\n      <td>0.137625</td>\n    </tr>\n    <tr>\n      <th>3427</th>\n      <td>1.132913</td>\n      <td>-0.172745</td>\n      <td>1.316757</td>\n      <td>-0.645455</td>\n      <td>-0.890861</td>\n      <td>-0.448712</td>\n      <td>-1.220478</td>\n      <td>-0.736630</td>\n      <td>-1.051287</td>\n      <td>-1.500426</td>\n      <td>0.645705</td>\n      <td>1.266280</td>\n    </tr>\n  </tbody>\n</table>\n<p>3428 rows × 12 columns</p>\n</div>"
     },
     "metadata": {},
     "output_type": "display_data"
    }
   ],
   "source": [
    "# Check Dataset\n",
    "display(df)"
   ],
   "metadata": {
    "collapsed": false
   }
  },
  {
   "cell_type": "code",
   "execution_count": 7,
   "outputs": [],
   "source": [
    "# Separating datasets by x & y\n",
    "x = df.drop(['quality'], axis=1)\n",
    "y = df['quality'].values.reshape(-1, 1)\n",
    "result = pd.DataFrame(None, columns=['Model', 'MSE'])"
   ],
   "metadata": {
    "collapsed": false
   }
  },
  {
   "cell_type": "code",
   "execution_count": 8,
   "outputs": [
    {
     "name": "stdout",
     "output_type": "stream",
     "text": [
      "Linear Regression mean of MSE -0.7127251554485273\n"
     ]
    }
   ],
   "source": [
    "# OLS (Linear Regression)\n",
    "linear = LinearRegression()\n",
    "MSE5 = cross_val_score(linear, x, y, scoring='neg_mean_squared_error', cv=5)\n",
    "mean_MSE = np.mean(MSE5)\n",
    "print('Linear Regression mean of MSE', mean_MSE)"
   ],
   "metadata": {
    "collapsed": false
   }
  },
  {
   "cell_type": "code",
   "execution_count": 9,
   "outputs": [
    {
     "name": "stdout",
     "output_type": "stream",
     "text": [
      "Ridge Regression Best parameter: {'alpha': 1e-15}\n",
      "Ridge Regression Best MSE: -0.7127251554485274\n"
     ]
    }
   ],
   "source": [
    "# Ridge Regression\n",
    "ridge = Ridge()\n",
    "ridge_parameters = {'alpha': [1e-15, 1e-10, 1e-8, 1e-4, 1e-3, 1e-2, 1, 5, 10, 20]}\n",
    "ridge_regression = GridSearchCV(ridge, ridge_parameters, scoring='neg_mean_squared_error', cv=5)\n",
    "ridge_regression.fit(x, y)\n",
    "\n",
    "print('Ridge Regression Best parameter:', ridge_regression.best_params_)\n",
    "print('Ridge Regression Best MSE:', ridge_regression.best_score_)"
   ],
   "metadata": {
    "collapsed": false
   }
  },
  {
   "cell_type": "code",
   "execution_count": 10,
   "outputs": [
    {
     "name": "stdout",
     "output_type": "stream",
     "text": [
      "LASSO Regression Best parameter: {'alpha': 0.001}\n",
      "LASSO Regression Best MSE: -0.7126218242267213\n"
     ]
    }
   ],
   "source": [
    "# LASSO Regression\n",
    "lasso = Lasso()\n",
    "lasso_parameters = {'alpha': [1e-15, 1e-10, 1e-8, 1e-4, 1e-3, 1e-2, 1, 5, 10, 20]}\n",
    "lasso_regression = GridSearchCV(lasso, lasso_parameters, scoring='neg_mean_squared_error', cv=5)\n",
    "lasso_regression.fit(x, y)\n",
    "\n",
    "print('LASSO Regression Best parameter:', lasso_regression.best_params_)\n",
    "print('LASSO Regression Best MSE:', lasso_regression.best_score_)"
   ],
   "metadata": {
    "collapsed": false
   }
  },
  {
   "cell_type": "code",
   "execution_count": 11,
   "outputs": [
    {
     "name": "stdout",
     "output_type": "stream",
     "text": [
      "Compare all models\n",
      "Linear Regression mean MSE:\t -0.7127251554485273\n",
      "Ridge Regression Best MSE:\t -0.7127251554485274\n",
      "LASSO Regression Best MSE:\t -0.7126218242267213\n"
     ]
    }
   ],
   "source": [
    "print('Compare all models')\n",
    "print('Linear Regression mean MSE:\\t', mean_MSE)\n",
    "print('Ridge Regression Best MSE:\\t', ridge_regression.best_score_)\n",
    "print('LASSO Regression Best MSE:\\t', lasso_regression.best_score_)"
   ],
   "metadata": {
    "collapsed": false
   }
  }
 ],
 "metadata": {
  "kernelspec": {
   "display_name": "Python 3",
   "language": "python",
   "name": "python3"
  },
  "language_info": {
   "codemirror_mode": {
    "name": "ipython",
    "version": 2
   },
   "file_extension": ".py",
   "mimetype": "text/x-python",
   "name": "python",
   "nbconvert_exporter": "python",
   "pygments_lexer": "ipython2",
   "version": "2.7.6"
  }
 },
 "nbformat": 4,
 "nbformat_minor": 0
}
